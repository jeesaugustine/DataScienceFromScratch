{
 "cells": [
  {
   "cell_type": "code",
   "execution_count": 2,
   "id": "70d8f384-d28a-4f2e-a6a7-41721d406cba",
   "metadata": {},
   "outputs": [],
   "source": [
    "y = apply_to_one=lambda x: x+4\n",
    "my_tuple = 2, 3, 4\n",
    "# pr"
   ]
  },
  {
   "cell_type": "code",
   "execution_count": 3,
   "id": "156e16b1-1d32-4ce9-b4b4-afe650b3f994",
   "metadata": {},
   "outputs": [
    {
     "name": "stdout",
     "output_type": "stream",
     "text": [
      "(2, 3, 4)\n"
     ]
    }
   ],
   "source": [
    "print(my_tuple)"
   ]
  },
  {
   "cell_type": "code",
   "execution_count": 1,
   "id": "1a54c85f-64fe-423e-8eed-5f558a84f981",
   "metadata": {},
   "outputs": [
    {
     "name": "stdout",
     "output_type": "stream",
     "text": [
      "some\n"
     ]
    }
   ],
   "source": [
    "print(r\"some\")"
   ]
  },
  {
   "cell_type": "code",
   "execution_count": null,
   "id": "a354d522-92f8-4b6c-be8d-12e2103f314d",
   "metadata": {},
   "outputs": [],
   "source": []
  }
 ],
 "metadata": {
  "kernelspec": {
   "display_name": "Python 3 (ipykernel)",
   "language": "python",
   "name": "python3"
  },
  "language_info": {
   "codemirror_mode": {
    "name": "ipython",
    "version": 3
   },
   "file_extension": ".py",
   "mimetype": "text/x-python",
   "name": "python",
   "nbconvert_exporter": "python",
   "pygments_lexer": "ipython3",
   "version": "3.12.0"
  }
 },
 "nbformat": 4,
 "nbformat_minor": 5
}
